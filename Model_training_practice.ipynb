{
 "cells": [
  {
   "cell_type": "code",
   "execution_count": 3,
   "metadata": {
    "ExecuteTime": {
     "end_time": "2021-02-16T13:20:51.429521Z",
     "start_time": "2021-02-16T13:20:49.329138Z"
    }
   },
   "outputs": [],
   "source": [
    "import sys\n",
    "assert sys.version_info >= (3, 5)\n",
    "\n",
    "import sklearn\n",
    "assert sklearn.__version__ >= \"0.20\"\n",
    "\n",
    "import numpy as np\n",
    "import os\n",
    "\n",
    "np.random.seed(42)\n",
    "\n",
    "%matplotlib inline\n",
    "import matplotlib as mpl\n",
    "import matplotlib.pyplot as plt\n",
    "mpl.rc('axes', labelsize=14)\n",
    "mpl.rc('xtick', labelsize=12)\n",
    "mpl.rc('ytick', labelsize=12)\n",
    "\n",
    "PROJECT_ROOT_DIR = \".\"\n",
    "CHAPTER_ID = \"ch4_practice\"\n",
    "IMAGES_PATH = os.path.join(PROJECT_ROOT_DIR, \"images\", CHAPTER_ID)\n",
    "os.makedirs(IMAGES_PATH, exist_ok=True)\n",
    "\n",
    "def save_fig(fig_id, tight_layout=True, fig_extension=\"png\", resolution=300):\n",
    "    path = os.path.join(IMAGES_PATH, fig_id + \".\" + fig_extension)\n",
    "    print(\"그림 저장:\", fig_id)\n",
    "    if tight_layout:\n",
    "        plt.tight_layout()\n",
    "    plt.savefig(path, format=fig_extension, dpi=resolution)\n",
    "\n",
    "import warnings\n",
    "warnings.filterwarnings(action=\"ignore\", message=\"^internal gelsd\")"
   ]
  },
  {
   "cell_type": "markdown",
   "metadata": {},
   "source": [
    "# 1. 수백만 개의 훈련 세트를 가진 훈련 세트에서는 어떤 선형 회귀 알고리즘을 사용?"
   ]
  },
  {
   "cell_type": "markdown",
   "metadata": {},
   "source": [
    "수백만 개의 특성이 있는 훈련 세트를 가지고 있으면 **확률적 경사 하강법(SGD)** 또는 **미니배치 경사 하강법**을 사용할 수 있다\n",
    "\n",
    "훈련 세트가 메모리 크기에 맞다면 배치 경사 하강법도 사용 가능하지만 정규 방정식이나 SVD 방법은 계산 복잡도가 특성 개수에 따라서 매우 빠르게 증가하기 때문에 사용할 수 없다"
   ]
  },
  {
   "cell_type": "markdown",
   "metadata": {},
   "source": [
    "# 2. 훈련 세트에 있는 특성들이 각기 아주 다른 스케일을 가진 경우 이런 데이터에 잘 작동하지 않는 알고리즘? 그 이유는? 해결 방법은?"
   ]
  },
  {
   "cell_type": "markdown",
   "metadata": {},
   "source": [
    "훈련 세트에 있는 특성 스케일이 매우 바르면 비용 함수 자체가 길쭉한 타원 모양이 된다\n",
    "\n",
    "따라서 경사 하강법 알고리즘이 수렴하는 데 시간이 오래 걸릴 것이다\n",
    "\n",
    "이를 해결하기 위해서 **스케일을 조절**해야 하는데, 정규 방정식이나 SVD 방법은 스케일 조정 없이도 잘 작동한다\n",
    "\n",
    "또한 규제가 있는 모델은 특성의 스케일이 다르면 **지역 최적점**에 수렴할 가능성이 있다\n",
    "\n",
    "규제는 가중치가 커지지 못하게 제약을 가하므로 특성값이 작으면 큰 값을 가진 특성에 비해 무시되는 경향이 있다"
   ]
  },
  {
   "cell_type": "markdown",
   "metadata": {},
   "source": [
    "# 3. 경사 하강법으로 로지스틱 회귀 모델을 훈련시킬 때 지역 최솟값에 갇힐 가능성이 있는가?"
   ]
  },
  {
   "cell_type": "markdown",
   "metadata": {},
   "source": [
    "로지스틱 회귀 모델의 비용 함수는 볼록 함수이므로 가능성이 없다"
   ]
  },
  {
   "cell_type": "markdown",
   "metadata": {},
   "source": [
    "# 4. 충분히 오랫동안 실행하면 모든 경사 하강법 알고리즘이 같은 모델을 만들어낼 것인가?"
   ]
  },
  {
   "cell_type": "markdown",
   "metadata": {},
   "source": [
    "최적화할 함수가 선형 회귀나 로지스틱 회귀처럼 볼록 함수이고 학습률이 너무 크지만 않다고 가정하면 결국에는 모든 경사 하강법 알고리즘이 전역 최적값에 도달하고 결국 비슷한 모델을 만들어 낼 것이다\n",
    "\n",
    "하지만 학습률을 점진적으로 감소시키지 못하면 SGD나 미니배치 GD는 최적점에 정확하게 수렴하지는 못하고 그 주변을 맴돌 것이다\n",
    "\n",
    "즉, 오랜 시간 훈련해도 조금씩 달라질 것이다"
   ]
  },
  {
   "cell_type": "markdown",
   "metadata": {},
   "source": [
    "# 5. 배치 경사 하강법을 사용하고 에포크마다 검증 오차를 그래프로 나타냈을 때, 검증 오차가 일정하게 상승하고 있다면 어떤 일이 일어나고 있는 것이며, 어떻게 해결할 수 있을 것인가?"
   ]
  },
  {
   "cell_type": "markdown",
   "metadata": {},
   "source": [
    "에포크마다 검증 에러가 지속적으로 상승한다면 한 가지 가능성으로는 학습률이 너무 높고 알고리즘이 발산하고 있는 것일 수도 있다\n",
    "\n",
    "훈련 에러도 올라간다면 이 문제가 확실하고 학습률을 낮춰야 한다\n",
    "\n",
    "하지만 훈련 에러가 올라가지 않는다면 모델이 훈련 세트에 과대적합되어 있는 것이므로 훈련을 멈추어야 한다"
   ]
  },
  {
   "cell_type": "markdown",
   "metadata": {},
   "source": [
    "# 6. 검증 오차가 상승하면 미니배치 경사 하강법을 즉시 중단하는 것이 좋은 방법인가?"
   ]
  },
  {
   "cell_type": "markdown",
   "metadata": {},
   "source": [
    "무작위성 때문에 경사 하강법이나 미니배치 GD 모두 매 훈련마다 학습의 진전을 보장하지는 못한다\n",
    "\n",
    "검증 에러가 상승할 때 훈련을 즉시 멈춘다면 최적점에 도달하기 전에 너무 일찍 멈추게 될 수도 있다\n",
    "\n",
    "그 다음 더 나은 방법은 정기적으로 모델을 저장하고 오랫동안 진전이 없을 때(최상의 점수를 넘지 못할 때) 저장된 것 중 가장 좋은 모델로 복원"
   ]
  },
  {
   "cell_type": "markdown",
   "metadata": {},
   "source": [
    "# 7. 어떤 경사 하강법의 알고리즘이 가장 빠르게 최적 솔루션의 주변에 도달할 것인가? 실제로 수렴하는 것은 어떤 것이며 다른 방법들도 수렴하게 만들 수 있는가?"
   ]
  },
  {
   "cell_type": "markdown",
   "metadata": {},
   "source": [
    "SGD는 한 번에 하나의 훈련 샘플만 사용하기 때문에 훈련 반복이 가장 빠르고 가장 먼저 전역 최적점 근처에 도달한다\n",
    "\n",
    "그러나 훈련 시간이 충분하면 배치 경사 하강법만 실제로 수렴하게 된다\n",
    "\n",
    "따라서 학습률을 점차 감소시키지 않으면 SGD와 미니배치 GD는 최적점 근처를 맴돌게 될 것이다"
   ]
  },
  {
   "cell_type": "markdown",
   "metadata": {},
   "source": [
    "# 8. 다항 회귀를 사용했을 때 학습 곡선을 보니 훈련 오차와 검증 오차 사이에 간격이 클 때, 무슨 일이 일어난 것이며 이 문제를 해결하는 세 가지 방법은 무엇인가?"
   ]
  },
  {
   "cell_type": "markdown",
   "metadata": {},
   "source": [
    "모델이 훈련 세트에 과대적합되었을 가능성이 높다\n",
    "\n",
    "첫 번째 해결 방법으로는 다항 차수를 낮추는 것이다. 자유도를 줄이면 과대적합이 훨씬 줄어든다\n",
    "\n",
    "두 번째 방법으로는 모델을 규제하는 것이다. 예를 들면 비용 함수에 $l_2$ 패널티(릿지) 또는 $l_1$ 패널티(라쏘)를 추가한다\n",
    "\n",
    "세 번째 방법은 훈련 세트의 크기를 증가시키는 것이다"
   ]
  },
  {
   "cell_type": "markdown",
   "metadata": {},
   "source": [
    "# 9. 릿지 회귀를 사용했을 때 훈련 오차와 검증 오차가 거의 비슷하고 둘 다 높은 상황이 발생. 이 모델에는 높은 편향이 문제인가? 높은 분산이 문제인가? 규제 하이퍼 파라미터 $\\alpha$를 증가시켜야할 것인가? 줄여야할 것인가"
   ]
  },
  {
   "cell_type": "markdown",
   "metadata": {},
   "source": [
    "훈련 에러와 검증 에러가 거의 비슷하고 매우 높다면 훈련 세트에 과소적합되었을 가능성이 높다\n",
    "\n",
    "따라서 규제 하이퍼 파라미터 $\\alpha$ 를 감소시켜야 한다"
   ]
  },
  {
   "cell_type": "markdown",
   "metadata": {},
   "source": [
    "# 10. 다음 3가지가 필요한 이유는 무엇인가?\n",
    "## - 평범한 선형 회귀 대신 릿지 회귀\n",
    "## - 릿지 회귀 대신 라쏘 회귀\n",
    "## - 라쏘 회귀 대신 엘라스틱넷"
   ]
  },
  {
   "cell_type": "markdown",
   "metadata": {},
   "source": [
    "- 규제가 있는 모델이 일반적으로 규제가 없는 모델보다 성능이 좋기 때문에 평범한 선형 회귀보다 릿지 회귀가 선호된다\n",
    "\n",
    "- 라쏘 회귀는 $l_1$ 패널티를 사용하여 가중치를 완전히 0으로 만드는 경향이 있다. 즉 가장 중요한 가중치를 제외하고는 모두 0이 되는 희소한 모델을 만든다. 또한 자동으로 특성 선택의 효과를 가지므로 몇 개의 특성만이 유용할 것이라고 의심될 때 사용하면 좋다. 이에 대한 확신이 없다면 릿지 회귀를 사용해야 한다\n",
    "\n",
    "- 라쏘가 몇 개의 특성이 강하게 연관되어 있거나 훈련 샘플보다 특성이 더 많을 때는 불규칙하게 행동하므로 엘라스틱넷이 라쏘보다 일반적으로 선호된다. 하지만 추가적인 하이퍼 파라미터가 생긴다. 불규칙한 행동이 없는 라쏘를 원하면 엘라스틱넷 $l_1 \\text{ratio}$를 1에 가깝게 설정하면 된다"
   ]
  },
  {
   "cell_type": "markdown",
   "metadata": {},
   "source": [
    "# 11. 사진을 낮과 밤, 실내와 실외로 분류하려고 할 때, 두 개의 로지스틱 회귀 분류기를 만들어야 할 것인가? 하나의 소프트맥스 회귀 분류기를 만들어야 할 것인가?"
   ]
  },
  {
   "cell_type": "markdown",
   "metadata": {},
   "source": [
    "실외와 실내, 낮과 밤에 따라서 사진을 구분하고 싶다면 이 둘은 배타적인 클래스가 아니기 때문에(네 가지의 조합이 모두 가능하므로) 두 개의 로지스틱 회귀 분류기를 훈련시켜야 한다"
   ]
  },
  {
   "cell_type": "markdown",
   "metadata": {},
   "source": [
    "# 12. 조기 종료를 사용한 배치 경사 하강법으로 소프트맥스 회귀 구현(사이킷런을 사용하지 않고)"
   ]
  },
  {
   "cell_type": "code",
   "execution_count": 4,
   "metadata": {
    "ExecuteTime": {
     "end_time": "2021-02-16T13:20:54.074597Z",
     "start_time": "2021-02-16T13:20:53.935969Z"
    }
   },
   "outputs": [
    {
     "data": {
      "text/plain": [
       "['data',\n",
       " 'target',\n",
       " 'frame',\n",
       " 'target_names',\n",
       " 'DESCR',\n",
       " 'feature_names',\n",
       " 'filename']"
      ]
     },
     "execution_count": 4,
     "metadata": {},
     "output_type": "execute_result"
    }
   ],
   "source": [
    "from sklearn import datasets\n",
    "iris = datasets.load_iris()\n",
    "list(iris.keys())"
   ]
  },
  {
   "cell_type": "code",
   "execution_count": 5,
   "metadata": {
    "ExecuteTime": {
     "end_time": "2021-02-16T13:20:54.819794Z",
     "start_time": "2021-02-16T13:20:54.815804Z"
    }
   },
   "outputs": [],
   "source": [
    "X = iris['data'][:,(2,3)] # 꽃잎의 길이와 넓이\n",
    "y = iris['target']"
   ]
  },
  {
   "cell_type": "code",
   "execution_count": 6,
   "metadata": {
    "ExecuteTime": {
     "end_time": "2021-02-16T13:20:55.506629Z",
     "start_time": "2021-02-16T13:20:55.502640Z"
    }
   },
   "outputs": [],
   "source": [
    "# 편향 추가\n",
    "X_with_bias = np.c_[np.ones([len(X),1]), X]"
   ]
  },
  {
   "cell_type": "code",
   "execution_count": 7,
   "metadata": {
    "ExecuteTime": {
     "end_time": "2021-02-16T13:20:57.057134Z",
     "start_time": "2021-02-16T13:20:57.054142Z"
    }
   },
   "outputs": [],
   "source": [
    "np.random.seed(2042)"
   ]
  },
  {
   "cell_type": "code",
   "execution_count": 8,
   "metadata": {
    "ExecuteTime": {
     "end_time": "2021-02-16T13:20:58.972577Z",
     "start_time": "2021-02-16T13:20:58.966592Z"
    }
   },
   "outputs": [],
   "source": [
    "test_ratio = 0.2\n",
    "validation_ratio = 0.2\n",
    "total_size = len(X_with_bias)\n",
    "\n",
    "test_size = int(total_size*test_ratio)\n",
    "validation_size = int(total_size*validation_ratio)\n",
    "train_size = total_size- test_size - validation_size\n",
    "\n",
    "rnd_indices = np.random.permutation(total_size)\n",
    "\n",
    "X_train = X_with_bias[rnd_indices[:train_size]]\n",
    "y_train = y[rnd_indices[:train_size]]\n",
    "\n",
    "X_valid = X_with_bias[rnd_indices[train_size:-test_size]]\n",
    "y_valid = y[rnd_indices[train_size:-test_size]]\n",
    "\n",
    "X_test = X_with_bias[rnd_indices[test_size:]]\n",
    "y_test = y[rnd_indices[test_size:]]\n"
   ]
  },
  {
   "cell_type": "markdown",
   "metadata": {},
   "source": [
    "타깃은 클래스 인덱스이지만 소프트맥스 회귀 모델을 훈련시키기 위해서는 타깃 클래스의 확률이 필요하다 \n",
    "\n",
    "각 샘플에서 확률이 1인 타깃 클래스를 제외한 나머지 클래스의 확률은 0(즉, 주어진 샘플에 대한 클래스 확률이 원-핫 벡터)"
   ]
  },
  {
   "cell_type": "code",
   "execution_count": 9,
   "metadata": {
    "ExecuteTime": {
     "end_time": "2021-02-16T13:21:00.019904Z",
     "start_time": "2021-02-16T13:21:00.014918Z"
    }
   },
   "outputs": [],
   "source": [
    "def to_one_hot(y):\n",
    "    n_classes = y.max() + 1\n",
    "    m = len(y)\n",
    "    Y_one_hot = np.zeros((m, n_classes))\n",
    "    Y_one_hot[np.arange(m), y] = 1\n",
    "    return Y_one_hot"
   ]
  },
  {
   "cell_type": "code",
   "execution_count": 10,
   "metadata": {
    "ExecuteTime": {
     "end_time": "2021-02-16T13:21:00.740279Z",
     "start_time": "2021-02-16T13:21:00.734310Z"
    }
   },
   "outputs": [
    {
     "data": {
      "text/plain": [
       "array([0, 1, 2, 1, 1, 0, 1, 1, 1, 0])"
      ]
     },
     "execution_count": 10,
     "metadata": {},
     "output_type": "execute_result"
    }
   ],
   "source": [
    "y_train[:10]"
   ]
  },
  {
   "cell_type": "code",
   "execution_count": 11,
   "metadata": {
    "ExecuteTime": {
     "end_time": "2021-02-16T13:21:00.963807Z",
     "start_time": "2021-02-16T13:21:00.958819Z"
    }
   },
   "outputs": [
    {
     "data": {
      "text/plain": [
       "array([[1., 0., 0.],\n",
       "       [0., 1., 0.],\n",
       "       [0., 0., 1.],\n",
       "       [0., 1., 0.],\n",
       "       [0., 1., 0.],\n",
       "       [1., 0., 0.],\n",
       "       [0., 1., 0.],\n",
       "       [0., 1., 0.],\n",
       "       [0., 1., 0.],\n",
       "       [1., 0., 0.]])"
      ]
     },
     "execution_count": 11,
     "metadata": {},
     "output_type": "execute_result"
    }
   ],
   "source": [
    "to_one_hot(y_train[:10])"
   ]
  },
  {
   "cell_type": "code",
   "execution_count": 12,
   "metadata": {
    "ExecuteTime": {
     "end_time": "2021-02-16T13:21:01.328036Z",
     "start_time": "2021-02-16T13:21:01.323053Z"
    }
   },
   "outputs": [],
   "source": [
    "Y_train_one_hot = to_one_hot(y_train)\n",
    "Y_valid_one_hot = to_one_hot(y_valid)\n",
    "Y_test_one_hot = to_one_hot(y_test)"
   ]
  },
  {
   "cell_type": "markdown",
   "metadata": {},
   "source": [
    "소프트맥스 함수 만들기\n",
    "\n",
    "$\n",
    "\\sigma(s(\\boldsymbol{x}))_{k} = \\dfrac{\\text{exp}(s_{k}(\\boldsymbol{x}))}{\\sum\\limits_{j=1}^{K}\\text{exp}(s_{j}(\\boldsymbol{x}))}\n",
    "$"
   ]
  },
  {
   "cell_type": "code",
   "execution_count": 13,
   "metadata": {
    "ExecuteTime": {
     "end_time": "2021-02-16T13:21:02.369874Z",
     "start_time": "2021-02-16T13:21:02.366881Z"
    }
   },
   "outputs": [],
   "source": [
    "def softmax(logits):\n",
    "    exps = np.exp(logits)\n",
    "    exp_sums = np.sum(exps, axis=1, keepdims = True)\n",
    "    return exps/exp_sums"
   ]
  },
  {
   "cell_type": "code",
   "execution_count": 14,
   "metadata": {
    "ExecuteTime": {
     "end_time": "2021-02-16T13:21:02.858097Z",
     "start_time": "2021-02-16T13:21:02.854108Z"
    }
   },
   "outputs": [],
   "source": [
    "n_inputs = X_train.shape[1] # == 3 (특성 2개와 편향)\n",
    "n_outputs = len(np.unique(y_train))   # == 3 (3개의 붓꽃 클래스)"
   ]
  },
  {
   "cell_type": "markdown",
   "metadata": {},
   "source": [
    "**비용 함수**\n",
    "\n",
    "$\n",
    "J(\\Theta) = -\\dfrac{1}{m}\\sum\\limits_{i=1}^{m}\\sum\\limits_{k=1}^{K}y_{k}^{(i)}\\text{log}(\\hat{p}^{(i)}_k)\n",
    "$"
   ]
  },
  {
   "cell_type": "markdown",
   "metadata": {},
   "source": [
    "**그레이디언트 공식**\n",
    "\n",
    "$\n",
    "\\nabla_{\\theta^{(k)}}J(\\Theta) = \\dfrac{1}{m}\\sum\\limits_{i=1}^{m}(\\hat{p}^{(i)}_{k}-\\hat{y}^{(i)}_{k})\\boldsymbol{x}^{(i)}\n",
    "$\n",
    "\n",
    "$\\hat{p}^{(i)}_{k} =0$이면 $\\text{log}(p^{(i)}_k)$를 계산할 수 없기 때문에 `nan`값을 피하기 위해서\n",
    "$\\text{log}(p^{(i)}_k)$값에 아주 작은 값 $\\epsilon$ 추가"
   ]
  },
  {
   "cell_type": "code",
   "execution_count": 16,
   "metadata": {
    "ExecuteTime": {
     "end_time": "2021-02-16T13:21:10.970934Z",
     "start_time": "2021-02-16T13:21:10.766513Z"
    }
   },
   "outputs": [
    {
     "name": "stdout",
     "output_type": "stream",
     "text": [
      "0 6.101695333134016\n",
      "500 0.7495955964003087\n",
      "1000 0.6335867601044719\n",
      "1500 0.5627809964824694\n",
      "2000 0.5154218410707394\n",
      "2500 0.48116101400112515\n",
      "3000 0.45483325048430245\n",
      "3500 0.4336617868483096\n",
      "4000 0.4160434121580319\n",
      "4500 0.40099310107809877\n",
      "5000 0.38787288168306755\n"
     ]
    }
   ],
   "source": [
    "eta = 0.01\n",
    "n_iterations = 5001\n",
    "m = len(X_train)\n",
    "epsilon = 1e-7\n",
    "\n",
    "Theta = np.random.randn(n_inputs, n_outputs)\n",
    "\n",
    "for iteration in range(n_iterations):\n",
    "    logits = X_train.dot(Theta)\n",
    "    Y_proba = softmax(logits)\n",
    "    loss = -np.mean(np.sum(Y_train_one_hot * np.log(Y_proba + epsilon), axis = 1))\n",
    "    error = Y_proba - Y_train_one_hot\n",
    "    if iteration % 500 == 0:\n",
    "        print(iteration, loss)\n",
    "    gradients = 1/m * X_train.T.dot(error)\n",
    "    Theta = Theta - eta * gradients\n",
    "    "
   ]
  },
  {
   "cell_type": "markdown",
   "metadata": {},
   "source": [
    "모델 파라미터 확인"
   ]
  },
  {
   "cell_type": "code",
   "execution_count": 17,
   "metadata": {
    "ExecuteTime": {
     "end_time": "2021-02-16T13:21:20.052145Z",
     "start_time": "2021-02-16T13:21:20.047159Z"
    }
   },
   "outputs": [
    {
     "data": {
      "text/plain": [
       "array([[ 3.68653944,  0.10079783, -1.99541063],\n",
       "       [ 0.33885719,  1.11266289,  0.75252074],\n",
       "       [-0.85514954,  1.11918494,  3.57304747]])"
      ]
     },
     "execution_count": 17,
     "metadata": {},
     "output_type": "execute_result"
    }
   ],
   "source": [
    "Theta"
   ]
  },
  {
   "cell_type": "markdown",
   "metadata": {},
   "source": [
    "검증 세트에 대한 예측과 정확도 확인"
   ]
  },
  {
   "cell_type": "code",
   "execution_count": 18,
   "metadata": {
    "ExecuteTime": {
     "end_time": "2021-02-16T13:22:42.326077Z",
     "start_time": "2021-02-16T13:22:42.320091Z"
    }
   },
   "outputs": [
    {
     "data": {
      "text/plain": [
       "0.9666666666666667"
      ]
     },
     "execution_count": 18,
     "metadata": {},
     "output_type": "execute_result"
    }
   ],
   "source": [
    "logits = X_valid.dot(Theta)\n",
    "Y_proba = softmax(logits)\n",
    "y_predict = np.argmax(Y_proba, axis = 1)\n",
    "\n",
    "accuracy_score = np.mean(y_predict == y_valid)\n",
    "accuracy_score"
   ]
  },
  {
   "cell_type": "markdown",
   "metadata": {},
   "source": [
    "$l_2$ 규제 추가, $\\eta$ 증가"
   ]
  },
  {
   "cell_type": "code",
   "execution_count": 20,
   "metadata": {
    "ExecuteTime": {
     "end_time": "2021-02-16T13:27:40.036324Z",
     "start_time": "2021-02-16T13:27:39.679279Z"
    }
   },
   "outputs": [
    {
     "name": "stdout",
     "output_type": "stream",
     "text": [
      "0 5.038280239064085\n",
      "500 0.532220182252098\n",
      "1000 0.5035315271928776\n",
      "1500 0.49465903889629925\n",
      "2000 0.49128501840330063\n",
      "2500 0.4898942482434113\n",
      "3000 0.48929688012374906\n",
      "3500 0.4890341569337251\n",
      "4000 0.4889169279611999\n",
      "4500 0.4888641374714865\n",
      "5000 0.488840222941224\n"
     ]
    }
   ],
   "source": [
    "eta = 0.1\n",
    "n_iterations = 5001\n",
    "m = len(X_train)\n",
    "epsilon = 1e-7\n",
    "alpha = 0.1\n",
    "\n",
    "Theta = np.random.randn(n_inputs, n_outputs)\n",
    "\n",
    "for iteration in range(n_iterations) :\n",
    "    logits = X_train.dot(Theta)\n",
    "    Y_proba = softmax(logits)\n",
    "    xentropy_loss = -np.mean(np.sum(Y_train_one_hot * np.log(Y_proba + epsilon), axis = 1))\n",
    "    l2_loss = 1/2 * np.sum(np.square(Theta[1:]))\n",
    "    loss = xentropy_loss + alpha * l2_loss\n",
    "    error = Y_proba - Y_train_one_hot\n",
    "    if iteration % 500 == 0 :\n",
    "        print(iteration, loss)\n",
    "    gradients = 1/m * X_train.T.dot(error) + np.r_[np.zeros([1,n_outputs]), alpha * Theta[1:]]\n",
    "    Theta = Theta - eta* gradients"
   ]
  },
  {
   "cell_type": "code",
   "execution_count": 21,
   "metadata": {
    "ExecuteTime": {
     "end_time": "2021-02-16T13:27:55.222037Z",
     "start_time": "2021-02-16T13:27:55.216054Z"
    }
   },
   "outputs": [
    {
     "data": {
      "text/plain": [
       "1.0"
      ]
     },
     "execution_count": 21,
     "metadata": {},
     "output_type": "execute_result"
    }
   ],
   "source": [
    "logits = X_valid.dot(Theta)\n",
    "Y_proba = softmax(logits)\n",
    "y_predict = np.argmax(Y_proba, axis=1)\n",
    "\n",
    "accuracy_score = np.mean(y_predict == y_valid)\n",
    "accuracy_score"
   ]
  },
  {
   "cell_type": "markdown",
   "metadata": {},
   "source": [
    "**조기 종료 추가**\n",
    "\n",
    "매 반복에서 검증 세트에 대한 손실을 계산해서 오차가 증가하기 시작할 때 멈춰야 한다"
   ]
  },
  {
   "cell_type": "code",
   "execution_count": 30,
   "metadata": {
    "ExecuteTime": {
     "end_time": "2021-02-16T13:43:13.141991Z",
     "start_time": "2021-02-16T13:43:12.838801Z"
    }
   },
   "outputs": [
    {
     "name": "stdout",
     "output_type": "stream",
     "text": [
      "0 1.294564551656504\n",
      "500 0.5659196955171946\n",
      "1000 0.5415409618999446\n",
      "1500 0.5350058122724648\n",
      "2000 0.533041336714093\n",
      "2500 0.5325697535922761\n",
      "2695 0.5325452438698854\n",
      "2696 0.5325452448372897 조기 종료!\n"
     ]
    }
   ],
   "source": [
    "eta = 0.1\n",
    "n_iterations = 5001\n",
    "m = len(X_train)\n",
    "epsilon = 1e-7\n",
    "alpha = 0.1\n",
    "best_loss = np.infty\n",
    "\n",
    "Theta = np.random.randn(n_inputs, n_outputs)\n",
    "\n",
    "for iteration in range(n_iterations):\n",
    "    logits = X_train.dot(Theta)\n",
    "    Y_proba = softmax(logits)\n",
    "    xentropy_loss = -np.mean(np.sum(Y_train_one_hot * np.log(Y_proba + epsilon), axis = 1))\n",
    "    l2_loss = 1/2 * np.sum(np.square(Theta[1:]))\n",
    "    loss = xentropy_loss + alpha * l2_loss\n",
    "    error = Y_proba - Y_train_one_hot\n",
    "    gradients = 1/m * X_train.T.dot(error) + np.r_[np.zeros([1, n_outputs]), alpha * Theta[1:]]\n",
    "    Theta = Theta - eta * gradients\n",
    "    \n",
    "    logits = X_valid.dot(Theta)\n",
    "    Y_proba = softmax(logits)\n",
    "    xentropy_loss = -np.mean(np.sum(Y_valid_one_hot * np.log(Y_proba + epsilon), axis = 1))\n",
    "    l2_loss = 1/2 * np.sum(np.square(Theta[1:]))\n",
    "    loss = xentropy_loss + alpha * l2_loss\n",
    "    if iteration % 500 == 0 :\n",
    "        print(iteration, loss)\n",
    "    if loss < best_loss :\n",
    "        best_loss = loss\n",
    "    else:\n",
    "        print(iteration - 1, best_loss)\n",
    "        print(iteration, loss, \"조기 종료!\")\n",
    "        break"
   ]
  },
  {
   "cell_type": "code",
   "execution_count": 31,
   "metadata": {
    "ExecuteTime": {
     "end_time": "2021-02-16T13:43:22.814023Z",
     "start_time": "2021-02-16T13:43:22.808039Z"
    }
   },
   "outputs": [
    {
     "data": {
      "text/plain": [
       "1.0"
      ]
     },
     "execution_count": 31,
     "metadata": {},
     "output_type": "execute_result"
    }
   ],
   "source": [
    "logits = X_valid.dot(Theta)\n",
    "Y_proba = softmax(logits)\n",
    "y_predict = np.argmax(Y_proba, axis=1)\n",
    "\n",
    "accuracy_score = np.mean(y_predict == y_valid)\n",
    "accuracy_score"
   ]
  },
  {
   "cell_type": "markdown",
   "metadata": {},
   "source": [
    "**전체 데이터셋에 대한 예측**"
   ]
  },
  {
   "cell_type": "code",
   "execution_count": 32,
   "metadata": {
    "ExecuteTime": {
     "end_time": "2021-02-16T13:43:41.254013Z",
     "start_time": "2021-02-16T13:43:38.331786Z"
    }
   },
   "outputs": [
    {
     "data": {
      "image/png": "[encoded data removed]",
      "text/plain": [
       "<Figure size 720x288 with 1 Axes>"
      ]
     },
     "metadata": {
      "needs_background": "light"
     },
     "output_type": "display_data"
    }
   ],
   "source": [
    "x0, x1 = np.meshgrid(\n",
    "        np.linspace(0, 8, 500).reshape(-1, 1),\n",
    "        np.linspace(0, 3.5, 200).reshape(-1, 1),\n",
    "    )\n",
    "X_new = np.c_[x0.ravel(), x1.ravel()]\n",
    "X_new_with_bias = np.c_[np.ones([len(X_new), 1]), X_new]\n",
    "\n",
    "logits = X_new_with_bias.dot(Theta)\n",
    "Y_proba = softmax(logits)\n",
    "y_predict = np.argmax(Y_proba, axis=1)\n",
    "\n",
    "zz1 = Y_proba[:, 1].reshape(x0.shape)\n",
    "zz = y_predict.reshape(x0.shape)\n",
    "\n",
    "plt.figure(figsize=(10, 4))\n",
    "plt.plot(X[y==2, 0], X[y==2, 1], \"g^\", label=\"Iris virginica\")\n",
    "plt.plot(X[y==1, 0], X[y==1, 1], \"bs\", label=\"Iris versicolor\")\n",
    "plt.plot(X[y==0, 0], X[y==0, 1], \"yo\", label=\"Iris setosa\")\n",
    "\n",
    "from matplotlib.colors import ListedColormap\n",
    "custom_cmap = ListedColormap(['#fafab0','#9898ff','#a0faa0'])\n",
    "\n",
    "plt.contourf(x0, x1, zz, cmap=custom_cmap)\n",
    "contour = plt.contour(x0, x1, zz1, cmap=plt.cm.brg)\n",
    "plt.clabel(contour, inline=1, fontsize=12)\n",
    "plt.xlabel(\"Petal length\", fontsize=14)\n",
    "plt.ylabel(\"Petal width\", fontsize=14)\n",
    "plt.legend(loc=\"upper left\", fontsize=14)\n",
    "plt.axis([0, 7, 0, 3.5])\n",
    "plt.show()"
   ]
  },
  {
   "cell_type": "code",
   "execution_count": 33,
   "metadata": {
    "ExecuteTime": {
     "end_time": "2021-02-16T13:43:56.573400Z",
     "start_time": "2021-02-16T13:43:56.567416Z"
    }
   },
   "outputs": [
    {
     "data": {
      "text/plain": [
       "0.9666666666666667"
      ]
     },
     "execution_count": 33,
     "metadata": {},
     "output_type": "execute_result"
    }
   ],
   "source": [
    "logits = X_test.dot(Theta)\n",
    "Y_proba = softmax(logits)\n",
    "y_predict = np.argmax(Y_proba, axis=1)\n",
    "\n",
    "accuracy_score = np.mean(y_predict == y_test)\n",
    "accuracy_score"
   ]
  },
  {
   "cell_type": "markdown",
   "metadata": {},
   "source": [
    "완벽했던 최종 모델의 성능이 다소 떨어졌는데 이는 데이터셋이 작기 때문이라고 생각할 수 있다"
   ]
  }
 ],
 "metadata": {
  "hide_input": false,
  "kernelspec": {
   "display_name": "Python 3",
   "language": "python",
   "name": "python3"
  },
  "language_info": {
   "codemirror_mode": {
    "name": "ipython",
    "version": 3
   },
   "file_extension": ".py",
   "mimetype": "text/x-python",
   "name": "python",
   "nbconvert_exporter": "python",
   "pygments_lexer": "ipython3",
   "version": "3.8.5"
  },
  "toc": {
   "base_numbering": 1,
   "nav_menu": {},
   "number_sections": false,
   "sideBar": true,
   "skip_h1_title": false,
   "title_cell": "Table of Contents",
   "title_sidebar": "Contents",
   "toc_cell": false,
   "toc_position": {},
   "toc_section_display": true,
   "toc_window_display": false
  },
  "varInspector": {
   "cols": {
    "lenName": 16,
    "lenType": 16,
    "lenVar": 40
   },
   "kernels_config": {
    "python": {
     "delete_cmd_postfix": "",
     "delete_cmd_prefix": "del ",
     "library": "var_list.py",
     "varRefreshCmd": "print(var_dic_list())"
    },
    "r": {
     "delete_cmd_postfix": ") ",
     "delete_cmd_prefix": "rm(",
     "library": "var_list.r",
     "varRefreshCmd": "cat(var_dic_list()) "
    }
   },
   "types_to_exclude": [
    "module",
    "function",
    "builtin_function_or_method",
    "instance",
    "_Feature"
   ],
   "window_display": false
  }
 },
 "nbformat": 4,
 "nbformat_minor": 4
}
